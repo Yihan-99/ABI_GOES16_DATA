{
 "cells": [
  {
   "cell_type": "markdown",
   "id": "49ef7892",
   "metadata": {},
   "source": [
    "### This part is used to process and normalize ABI L1 data"
   ]
  },
  {
   "cell_type": "code",
   "execution_count": 1,
   "id": "f332fd65",
   "metadata": {},
   "outputs": [],
   "source": [
    "## Prepare the package we need\n",
    "import h5py as h5\n",
    "import netCDF4 as nc\n",
    "import numpy as np\n",
    "import matplotlib.pyplot as plt"
   ]
  },
  {
   "cell_type": "code",
   "execution_count": 2,
   "id": "710bc3a1",
   "metadata": {},
   "outputs": [
    {
     "name": "stdout",
     "output_type": "stream",
     "text": [
      "<KeysViewHDF5 ['Latitude', 'Longitude', 'SpaceMask', 'VAA', 'VZA']>\n"
     ]
    }
   ],
   "source": [
    "## Read geo-information(resolution is 1 km)\n",
    "geo_path = '/Users/yihan/Documents/Project/Cloud_Aerosol_Project/ABI_sample_data/'\n",
    "geo_file = geo_path + 'goesr_16_static_1km.h5'   # goes static data \n",
    "f_geo = h5.File(geo_file, 'r')\n",
    "       \n",
    "### Show the groups in the geo_file\n",
    "print(f_geo.keys())\n",
    "   \n",
    "lat = f_geo['Latitude'][:]\n",
    "lon = f_geo['Longitude'][:]\n",
    "\n",
    "f_geo.close()     # Do not forget to close the file"
   ]
  },
  {
   "cell_type": "code",
   "execution_count": 3,
   "id": "f0068530",
   "metadata": {},
   "outputs": [],
   "source": [
    "## Read ABI L1 data\n",
    "data_path = '/Users/yihan/Documents/Project/Cloud_Aerosol_Project/ABI_sample_data/'\n",
    "dataSetName = data_path + 'OR_ABI-L1b-RadF-M6C01_G16_s20203080900179_e20203080909487_c20203080909538.nc'\n",
    "\n",
    "channel = 1    # the channel you want to read, it should match the nc file!!!\n",
    "dataSet = nc.Dataset(dataSetName, 'r')    \n",
    "\n",
    "#print(dataSet.__dict__)\n",
    "#print(dataSet.variables.keys())\n",
    "\n",
    "Rad = dataSet['Rad'][:]\n",
    "fill_value = dataSet.variables['Rad']._FillValue       # read invalid data    \n",
    "Rad[Rad == fill_value] = np.nan     # mask the invalid value"
   ]
  },
  {
   "cell_type": "code",
   "execution_count": 4,
   "id": "3ec74bd1",
   "metadata": {},
   "outputs": [],
   "source": [
    "def changeResolution(dataSet, variable):\n",
    "    #dataSet = nc.Dataset(dataSetName, 'r')\n",
    "    fill_value = dataSet.variables[variable]._FillValue       # read invalid data    \n",
    "\n",
    "    if 'x' not in dataSet.dimensions:\n",
    "        print(\"missing x dimension\")\n",
    "        return\n",
    "        \n",
    "    if 'y' not in dataSet.dimensions:\n",
    "        print(\"missing y dimension\")\n",
    "        return\n",
    "\n",
    "    xDim = dataSet.dimensions['x'].size\n",
    "    yDim = dataSet.dimensions['y'].size\n",
    "    \n",
    "    if 'spatial_resolution' not in dataSet.__dict__:\n",
    "        print(\"missing spatial resolution param\")\n",
    "        return\n",
    "\n",
    "    resolution = dataSet.__dict__[\"spatial_resolution\"]\n",
    "    \n",
    "    \n",
    "    if(\"1km\" in resolution):\n",
    "        # In this case, we do not need to change resolution\n",
    "        # just return the original one\n",
    "        grid = np.zeros([yDim, xDim])\n",
    "        grid[:,:] = dataSet[variable][:]\n",
    "        grid[grid == fill_value] = np.nan \n",
    "        \n",
    "        return grid\n",
    "    \n",
    "    elif(\"0.5km\" in resolution):\n",
    "        newX = int(xDim / 2)\n",
    "        newY = int(yDim / 2)\n",
    "        \n",
    "        grid = np.zeros([yDim, xDim])\n",
    "        grid[:,:] = dataSet[variable][:]\n",
    "        grid[grid == fill_value] = np.nan \n",
    "    \n",
    "        newGrid = np.zeros([newY, newX])\n",
    "        \n",
    "        for y in range(0, newY):\n",
    "            for x in range(0, newX):\n",
    "                newGrid[y, x] = grid[y * 2, x * 2]\n",
    "                \n",
    "        return newGrid\n",
    "        \n",
    "    elif(\"2km\" in resolution):\n",
    "        newX = int(xDim * 2)\n",
    "        newY = int(yDim * 2)\n",
    "        \n",
    "        grid = np.zeros([yDim, xDim])\n",
    "        grid[:,:] = dataSet[variable][:]\n",
    "        grid[grid == fill_value] = np.nan \n",
    "        \n",
    "        newGrid = np.zeros([newY, newX])\n",
    "\n",
    "        for y in range(0, yDim):\n",
    "            for x in range(0, xDim):\n",
    "                happyX = x * 2\n",
    "                happyY = y * 2\n",
    "                newGrid[happyY, happyX] = grid[y, x]\n",
    "                newGrid[happyY + 1, happyX] = grid[y, x]\n",
    "                newGrid[happyY, happyX + 1] = grid[y, x]\n",
    "                newGrid[happyY + 1, happyX + 1] = grid[y, x]\n",
    "                \n",
    "        return newGrid\n",
    "    else:\n",
    "        print(\"unsupported resolution, write some more code dude\")\n",
    "        return\n",
    "    \n",
    "### Do you want to normalize resolution into 1km?\n",
    "\n",
    "def NormResolution(dataSet, variable, your_choice):\n",
    "    \n",
    "    if (your_choice):\n",
    "        resolution = dataSet.__dict__[\"spatial_resolution\"]  \n",
    "        Rad = changeResolution(dataSet, variable)   \n",
    "        \n",
    "    else:\n",
    "        Rad = dataSet[variable][:]\n",
    "        fill_value = dataSet.variables[variable]._FillValue       # read invalid data    \n",
    "        Rad[Rad == fill_value] = np.nan     # mask the invalid value\n",
    "            \n",
    "    return Rad"
   ]
  },
  {
   "cell_type": "code",
   "execution_count": 5,
   "id": "b0799091",
   "metadata": {},
   "outputs": [],
   "source": [
    "### If you want to normalize resolution or not (True or False) \n",
    "Rad = NormResolution(dataSet, 'Rad', True)"
   ]
  },
  {
   "cell_type": "code",
   "execution_count": 6,
   "id": "61b9eb0b",
   "metadata": {},
   "outputs": [],
   "source": [
    "data = np.ma.zeros(np.shape(Rad))    # dataset used to save L1 data\n",
    "\n",
    "## read the visible data of channel 1-6\n",
    "if(channel<7):             \n",
    "    data = Rad * dataSet['kappa0'][:]\n",
    "        \n",
    "## read the infrared wavelength of channel 7-16    \n",
    "else:\n",
    "    fk1 = dataSet['planck_fk1'][:]\n",
    "    fk2 = dataSet['planck_fk2'][:]\n",
    "    bc1 = dataSet['planck_bc1'][:]\n",
    "    bc2 = dataSet['planck_bc2'][:]\n",
    "\n",
    "    data = (fk2/(np.log((fk1/Rad) + 1)) - bc1)/bc2   \n",
    "    \n",
    "dataSet.close()  # Do not forget to close the file"
   ]
  },
  {
   "cell_type": "code",
   "execution_count": 7,
   "id": "5603da5b",
   "metadata": {},
   "outputs": [
    {
     "data": {
      "text/plain": [
       "<matplotlib.image.AxesImage at 0x7ffda00c7850>"
      ]
     },
     "execution_count": 7,
     "metadata": {},
     "output_type": "execute_result"
    },
    {
     "data": {
      "image/png": "[encoded data removed]",
      "text/plain": [
       "<Figure size 432x288 with 1 Axes>"
      ]
     },
     "metadata": {
      "needs_background": "light"
     },
     "output_type": "display_data"
    }
   ],
   "source": [
    "plt.imshow(data)"
   ]
  }
 ],
 "metadata": {
  "kernelspec": {
   "display_name": "Python 3",
   "language": "python",
   "name": "python3"
  },
  "language_info": {
   "codemirror_mode": {
    "name": "ipython",
    "version": 3
   },
   "file_extension": ".py",
   "mimetype": "text/x-python",
   "name": "python",
   "nbconvert_exporter": "python",
   "pygments_lexer": "ipython3",
   "version": "3.8.8"
  }
 },
 "nbformat": 4,
 "nbformat_minor": 5
}
